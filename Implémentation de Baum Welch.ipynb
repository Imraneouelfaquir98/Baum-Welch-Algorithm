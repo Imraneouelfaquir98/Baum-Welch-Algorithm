{
 "cells": [
  {
   "cell_type": "markdown",
   "metadata": {},
   "source": [
    "# Beaum Welch Algorithm Project"
   ]
  },
  {
   "cell_type": "markdown",
   "metadata": {},
   "source": [
    "IMRANE OU EL FAQUIR Filière IIA"
   ]
  },
  {
   "cell_type": "code",
   "execution_count": 17,
   "metadata": {},
   "outputs": [],
   "source": [
    "import numpy as np\n",
    "import pandas as pd"
   ]
  },
  {
   "cell_type": "markdown",
   "metadata": {},
   "source": [
    "`` p `` : transition probability\n",
    "\n",
    "`` q ``: emission probability\n",
    "\n",
    "`` observ_seq ``: observed sequence\n",
    "\n",
    "`` b_0 `` Initial state"
   ]
  },
  {
   "cell_type": "code",
   "execution_count": 18,
   "metadata": {},
   "outputs": [],
   "source": [
    "# b_0 est l'état initial \n",
    "b_0 = np.array([0.0, 0.0, 1.0, 0.0, 0.0])\n",
    "# q c'est la probabilité d'émission\n",
    "q   = np.array([[ 0, 0, 0, 1, 0],\n",
    "                [ 0, 0, 1, 0, 0],\n",
    "                [ 0, 0, 1, 0, 0],\n",
    "                [ 0, 0, 1, 0, 0],\n",
    "                [ 0, 0, 0, 1, 0]])\n",
    "# p c'est la probabilité de transition\n",
    "p   = np.array([[ 0.75, 0.25, 0.00, 0.00, 0.00],\n",
    "                [ 0.25, 0.75, 0.25, 0.00, 0.00],\n",
    "                [ 0.00, 0.25, 0.75, 0.25, 0.00],\n",
    "                [ 0.00, 0.00, 0.25, 0.75, 0.25],\n",
    "                [ 0.00, 0.00, 0.00, 0.25, 0.75]])\n",
    "# observ_seq c'est la séquence d'observation o = (o_1, o_2, ... , o_n)\n",
    "observ_seq = np.array([ 2, 2, 3, 2, 3, 2, 2, 2, 3, 3])"
   ]
  },
  {
   "cell_type": "markdown",
   "metadata": {},
   "source": [
    "## Forward Algorithm"
   ]
  },
  {
   "cell_type": "code",
   "execution_count": 19,
   "metadata": {},
   "outputs": [],
   "source": [
    "def forward(observ_seq, p, q, b_0):\n",
    "    # Initialisation de  alpha_1(s) = q_(s,o_1) * b_0(s)\n",
    "    alpha = np.zeros((p.shape[0], observ_seq.shape[0]))\n",
    "    alpha[:,0] = b_0*q[:,observ_seq[0]]\n",
    "    # calcul des  alpha_t(s) = q_(s,o_t) sum p(s', s) * alpha_(t-1) (s')\n",
    "    for t in range(1, observ_seq.shape[0]):\n",
    "        for s in range(q.shape[0]):\n",
    "            alpha[s, t] = q[s, observ_seq[t]] * np.dot(p[:, s], alpha[:, t-1])\n",
    "    return alpha"
   ]
  },
  {
   "cell_type": "code",
   "execution_count": 20,
   "metadata": {},
   "outputs": [
    {
     "data": {
      "text/html": [
       "<div>\n",
       "<style scoped>\n",
       "    .dataframe tbody tr th:only-of-type {\n",
       "        vertical-align: middle;\n",
       "    }\n",
       "\n",
       "    .dataframe tbody tr th {\n",
       "        vertical-align: top;\n",
       "    }\n",
       "\n",
       "    .dataframe thead th {\n",
       "        text-align: right;\n",
       "    }\n",
       "</style>\n",
       "<table border=\"1\" class=\"dataframe\">\n",
       "  <thead>\n",
       "    <tr style=\"text-align: right;\">\n",
       "      <th></th>\n",
       "      <th>0</th>\n",
       "      <th>1</th>\n",
       "      <th>2</th>\n",
       "      <th>3</th>\n",
       "      <th>4</th>\n",
       "      <th>5</th>\n",
       "      <th>6</th>\n",
       "      <th>7</th>\n",
       "      <th>8</th>\n",
       "      <th>9</th>\n",
       "    </tr>\n",
       "  </thead>\n",
       "  <tbody>\n",
       "    <tr>\n",
       "      <th>0</th>\n",
       "      <td>0.0</td>\n",
       "      <td>0.00</td>\n",
       "      <td>0.0625</td>\n",
       "      <td>0.000000</td>\n",
       "      <td>0.003906</td>\n",
       "      <td>0.000000</td>\n",
       "      <td>0.000000</td>\n",
       "      <td>0.000000</td>\n",
       "      <td>0.000168</td>\n",
       "      <td>0.000126</td>\n",
       "    </tr>\n",
       "    <tr>\n",
       "      <th>1</th>\n",
       "      <td>0.0</td>\n",
       "      <td>0.25</td>\n",
       "      <td>0.0000</td>\n",
       "      <td>0.015625</td>\n",
       "      <td>0.000000</td>\n",
       "      <td>0.000977</td>\n",
       "      <td>0.000732</td>\n",
       "      <td>0.000671</td>\n",
       "      <td>0.000000</td>\n",
       "      <td>0.000000</td>\n",
       "    </tr>\n",
       "    <tr>\n",
       "      <th>2</th>\n",
       "      <td>1.0</td>\n",
       "      <td>0.75</td>\n",
       "      <td>0.0000</td>\n",
       "      <td>0.000000</td>\n",
       "      <td>0.000000</td>\n",
       "      <td>0.000000</td>\n",
       "      <td>0.000488</td>\n",
       "      <td>0.000732</td>\n",
       "      <td>0.000000</td>\n",
       "      <td>0.000000</td>\n",
       "    </tr>\n",
       "    <tr>\n",
       "      <th>3</th>\n",
       "      <td>0.0</td>\n",
       "      <td>0.25</td>\n",
       "      <td>0.0000</td>\n",
       "      <td>0.015625</td>\n",
       "      <td>0.000000</td>\n",
       "      <td>0.000977</td>\n",
       "      <td>0.000732</td>\n",
       "      <td>0.000671</td>\n",
       "      <td>0.000000</td>\n",
       "      <td>0.000000</td>\n",
       "    </tr>\n",
       "    <tr>\n",
       "      <th>4</th>\n",
       "      <td>0.0</td>\n",
       "      <td>0.00</td>\n",
       "      <td>0.0625</td>\n",
       "      <td>0.000000</td>\n",
       "      <td>0.003906</td>\n",
       "      <td>0.000000</td>\n",
       "      <td>0.000000</td>\n",
       "      <td>0.000000</td>\n",
       "      <td>0.000168</td>\n",
       "      <td>0.000126</td>\n",
       "    </tr>\n",
       "  </tbody>\n",
       "</table>\n",
       "</div>"
      ],
      "text/plain": [
       "     0     1       2         3         4         5         6         7  \\\n",
       "0  0.0  0.00  0.0625  0.000000  0.003906  0.000000  0.000000  0.000000   \n",
       "1  0.0  0.25  0.0000  0.015625  0.000000  0.000977  0.000732  0.000671   \n",
       "2  1.0  0.75  0.0000  0.000000  0.000000  0.000000  0.000488  0.000732   \n",
       "3  0.0  0.25  0.0000  0.015625  0.000000  0.000977  0.000732  0.000671   \n",
       "4  0.0  0.00  0.0625  0.000000  0.003906  0.000000  0.000000  0.000000   \n",
       "\n",
       "          8         9  \n",
       "0  0.000168  0.000126  \n",
       "1  0.000000  0.000000  \n",
       "2  0.000000  0.000000  \n",
       "3  0.000000  0.000000  \n",
       "4  0.000168  0.000126  "
      ]
     },
     "execution_count": 20,
     "metadata": {},
     "output_type": "execute_result"
    }
   ],
   "source": [
    "alpha = forward(observ_seq, p, q, b_0)\n",
    "pd.DataFrame(alpha)"
   ]
  },
  {
   "cell_type": "markdown",
   "metadata": {},
   "source": [
    "## Backward Algorithm"
   ]
  },
  {
   "cell_type": "code",
   "execution_count": 21,
   "metadata": {},
   "outputs": [],
   "source": [
    "def backward(observ_seq, p, q):\n",
    "    # Initialisation de beta_T (s) = 1\n",
    "    beta = np.zeros((observ_seq.shape[0], p.shape[0]))\n",
    "    beta[observ_seq.shape[0] - 1] = np.ones((p.shape[0]))\n",
    "    # calcul des  beta_t(s) = sum p(s, s') *  q(s', o_(t+1)) *beta_(t+1) (s')\n",
    "    for t in range(observ_seq.shape[0] - 2, -1, -1):\n",
    "        for s in range(q.shape[0]):\n",
    "            beta[t, s] = np.dot(beta[t + 1] * q[:, observ_seq[t + 1]], p[s, :])\n",
    "    return beta"
   ]
  },
  {
   "cell_type": "code",
   "execution_count": 22,
   "metadata": {},
   "outputs": [
    {
     "data": {
      "text/html": [
       "<div>\n",
       "<style scoped>\n",
       "    .dataframe tbody tr th:only-of-type {\n",
       "        vertical-align: middle;\n",
       "    }\n",
       "\n",
       "    .dataframe tbody tr th {\n",
       "        vertical-align: top;\n",
       "    }\n",
       "\n",
       "    .dataframe thead th {\n",
       "        text-align: right;\n",
       "    }\n",
       "</style>\n",
       "<table border=\"1\" class=\"dataframe\">\n",
       "  <thead>\n",
       "    <tr style=\"text-align: right;\">\n",
       "      <th></th>\n",
       "      <th>0</th>\n",
       "      <th>1</th>\n",
       "      <th>2</th>\n",
       "      <th>3</th>\n",
       "      <th>4</th>\n",
       "      <th>5</th>\n",
       "      <th>6</th>\n",
       "      <th>7</th>\n",
       "      <th>8</th>\n",
       "      <th>9</th>\n",
       "    </tr>\n",
       "  </thead>\n",
       "  <tbody>\n",
       "    <tr>\n",
       "      <th>0</th>\n",
       "      <td>0.000126</td>\n",
       "      <td>0.001511</td>\n",
       "      <td>0.002014</td>\n",
       "      <td>0.024170</td>\n",
       "      <td>0.032227</td>\n",
       "      <td>0.035156</td>\n",
       "      <td>0.046875</td>\n",
       "      <td>0.5625</td>\n",
       "      <td>0.75</td>\n",
       "      <td>1.0</td>\n",
       "    </tr>\n",
       "    <tr>\n",
       "      <th>1</th>\n",
       "      <td>0.000378</td>\n",
       "      <td>0.000504</td>\n",
       "      <td>0.006042</td>\n",
       "      <td>0.008057</td>\n",
       "      <td>0.131836</td>\n",
       "      <td>0.128906</td>\n",
       "      <td>0.140625</td>\n",
       "      <td>0.1875</td>\n",
       "      <td>0.25</td>\n",
       "      <td>1.0</td>\n",
       "    </tr>\n",
       "    <tr>\n",
       "      <th>2</th>\n",
       "      <td>0.000252</td>\n",
       "      <td>0.000000</td>\n",
       "      <td>0.004028</td>\n",
       "      <td>0.000000</td>\n",
       "      <td>0.169922</td>\n",
       "      <td>0.140625</td>\n",
       "      <td>0.093750</td>\n",
       "      <td>0.0000</td>\n",
       "      <td>0.00</td>\n",
       "      <td>1.0</td>\n",
       "    </tr>\n",
       "    <tr>\n",
       "      <th>3</th>\n",
       "      <td>0.000378</td>\n",
       "      <td>0.000504</td>\n",
       "      <td>0.006042</td>\n",
       "      <td>0.008057</td>\n",
       "      <td>0.131836</td>\n",
       "      <td>0.128906</td>\n",
       "      <td>0.140625</td>\n",
       "      <td>0.1875</td>\n",
       "      <td>0.25</td>\n",
       "      <td>1.0</td>\n",
       "    </tr>\n",
       "    <tr>\n",
       "      <th>4</th>\n",
       "      <td>0.000126</td>\n",
       "      <td>0.001511</td>\n",
       "      <td>0.002014</td>\n",
       "      <td>0.024170</td>\n",
       "      <td>0.032227</td>\n",
       "      <td>0.035156</td>\n",
       "      <td>0.046875</td>\n",
       "      <td>0.5625</td>\n",
       "      <td>0.75</td>\n",
       "      <td>1.0</td>\n",
       "    </tr>\n",
       "  </tbody>\n",
       "</table>\n",
       "</div>"
      ],
      "text/plain": [
       "          0         1         2         3         4         5         6  \\\n",
       "0  0.000126  0.001511  0.002014  0.024170  0.032227  0.035156  0.046875   \n",
       "1  0.000378  0.000504  0.006042  0.008057  0.131836  0.128906  0.140625   \n",
       "2  0.000252  0.000000  0.004028  0.000000  0.169922  0.140625  0.093750   \n",
       "3  0.000378  0.000504  0.006042  0.008057  0.131836  0.128906  0.140625   \n",
       "4  0.000126  0.001511  0.002014  0.024170  0.032227  0.035156  0.046875   \n",
       "\n",
       "        7     8    9  \n",
       "0  0.5625  0.75  1.0  \n",
       "1  0.1875  0.25  1.0  \n",
       "2  0.0000  0.00  1.0  \n",
       "3  0.1875  0.25  1.0  \n",
       "4  0.5625  0.75  1.0  "
      ]
     },
     "execution_count": 22,
     "metadata": {},
     "output_type": "execute_result"
    }
   ],
   "source": [
    "beta = backward(observ_seq, p, q)\n",
    "pd.DataFrame(beta.T)"
   ]
  },
  {
   "cell_type": "markdown",
   "metadata": {},
   "source": [
    "## Baum Welch Algorithm"
   ]
  },
  {
   "cell_type": "code",
   "execution_count": 136,
   "metadata": {},
   "outputs": [],
   "source": [
    "def baum_welch(observ_seq, p, q, b_0, max_iter=100):\n",
    "    for _ in range(max_iter):\n",
    "        alpha = forward(observ_seq, p, q, b_0)\n",
    "        beta = backward(observ_seq, p, q)\n",
    "        epsilon = np.zeros((p.shape[0], p.shape[0], len(observ_seq) - 1))\n",
    "        for t in range(len(observ_seq) - 1):\n",
    "            epsilon_1 = np.dot(np.dot(alpha[:, t].T, p) * q[:, observ_seq[t + 1]].T, beta[t + 1, :])\n",
    "            for i in range(p.shape[0]):\n",
    "                epsilon_2 = alpha[i, t] * p[i, :] * q[:, observ_seq[t + 1]].T * beta[t + 1, :].T\n",
    "                epsilon[i, :, t] = epsilon_2 / epsilon_1\n",
    "        gamma = np.sum(epsilon, axis=1)\n",
    "        p = np.sum(epsilon, 2) / np.sum(gamma, axis=1).reshape((-1, 1))\n",
    "        gamma = np.hstack((gamma, np.sum(epsilon[:, :, len(observ_seq) - 2], axis=0).reshape((-1, 1))))\n",
    "        for l in range(q.shape[1]):\n",
    "            q[:, l] = np.sum(gamma[:, observ_seq == l], axis=1)\n",
    "        q = np.divide(q, np.sum(gamma, axis=1).reshape((-1, 1)))\n",
    "    return {\"Transition\":p, \"Emission\":q}"
   ]
  },
  {
   "cell_type": "code",
   "execution_count": 139,
   "metadata": {},
   "outputs": [],
   "source": [
    "baum = baum_welch(observ_seq, p, q, b_0, max_iter = 100)"
   ]
  },
  {
   "cell_type": "code",
   "execution_count": 140,
   "metadata": {},
   "outputs": [
    {
     "data": {
      "text/plain": [
       "array([[0.33333333, 0.66666667, 0.        , 0.        , 0.        ],\n",
       "       [0.75      , 0.        , 0.25      , 0.        , 0.        ],\n",
       "       [0.        , 0.5       , 0.        , 0.5       , 0.        ],\n",
       "       [0.        , 0.        , 0.25      , 0.        , 0.75      ],\n",
       "       [0.        , 0.        , 0.        , 0.66666667, 0.33333333]])"
      ]
     },
     "execution_count": 140,
     "metadata": {},
     "output_type": "execute_result"
    }
   ],
   "source": [
    "baum['Transition']"
   ]
  },
  {
   "cell_type": "code",
   "execution_count": 141,
   "metadata": {},
   "outputs": [
    {
     "data": {
      "text/plain": [
       "array([[0., 0., 0., 1., 0.],\n",
       "       [0., 0., 1., 0., 0.],\n",
       "       [0., 0., 1., 0., 0.],\n",
       "       [0., 0., 1., 0., 0.],\n",
       "       [0., 0., 0., 1., 0.]])"
      ]
     },
     "execution_count": 141,
     "metadata": {},
     "output_type": "execute_result"
    }
   ],
   "source": [
    "baum['Emission']"
   ]
  },
  {
   "cell_type": "code",
   "execution_count": 147,
   "metadata": {},
   "outputs": [],
   "source": [
    "class BaumWelch():\n",
    "    def __init__(self, observ_seq, p, q, b_0, max_iter = 100):\n",
    "        self.observ_seq = observ_seq\n",
    "        self.p = p\n",
    "        self.q = q\n",
    "        self.b_0 = b_0\n",
    "        self.max_iter = max_iter\n",
    "    def forward(self):\n",
    "        # Initialisation de  alpha_1(s) = q_(s,o_1) * b_0(s)\n",
    "        alpha = np.zeros((self.p.shape[0], self.observ_seq.shape[0]))\n",
    "        alpha[:,0] = self.b_0*self.q[:,self.observ_seq[0]]\n",
    "        # calcul des  alpha_t(s) = q_(s,o_t) sum p(s', s) * alpha_(t-1) (s')\n",
    "        for t in range(1, self.observ_seq.shape[0]):\n",
    "            for s in range(self.q.shape[0]):\n",
    "                alpha[s, t] = self.q[s, self.observ_seq[t]] * np.dot(self.p[:, s], alpha[:, t-1])\n",
    "        return alpha\n",
    "    def backward(self):\n",
    "        # Initialisation de beta_T (s) = 1\n",
    "        beta = np.zeros((self.observ_seq.shape[0], self.p.shape[0]))\n",
    "        beta[self.observ_seq.shape[0] - 1] = np.ones((self.p.shape[0]))\n",
    "        # calcul des  beta_t(s) = sum p(s, s') *  q(s', o_(t+1)) *beta_(t+1) (s')\n",
    "        for t in range(self.observ_seq.shape[0] - 2, -1, -1):\n",
    "            for s in range(self.q.shape[0]):\n",
    "                beta[t, s] = np.dot(beta[t + 1] * self.q[:, self.observ_seq[t + 1]], self.p[s, :])\n",
    "        return beta\n",
    "    def fit(self):\n",
    "        for _ in range(self.max_iter):\n",
    "            alpha = self.forward()\n",
    "            beta = self.backward()\n",
    "            epsilon = np.zeros((self.p.shape[0], self.p.shape[0], len(self.observ_seq) - 1))\n",
    "            for t in range(len(self.observ_seq) - 1):\n",
    "                epsilon_1 = np.dot(np.dot(alpha[:, t].T, self.p) * self.q[:, self.observ_seq[t + 1]].T, beta[t + 1, :])\n",
    "                for i in range(self.p.shape[0]):\n",
    "                    epsilon_2 = alpha[i, t] * self.p[i, :] * self.q[:, self.observ_seq[t + 1]].T * beta[t + 1, :].T\n",
    "                    epsilon[i, :, t] = epsilon_2 / epsilon_1\n",
    "            gamma = np.sum(epsilon, axis=1)\n",
    "            self.p = np.sum(epsilon, 2) / np.sum(gamma, axis=1).reshape((-1, 1))\n",
    "            gamma = np.hstack((gamma, np.sum(epsilon[:, :, len(observ_seq) - 2], axis=0).reshape((-1, 1))))\n",
    "            for l in range(self.q.shape[1]):\n",
    "                self.q[:, l] = np.sum(gamma[:, self.observ_seq == l], axis=1)\n",
    "            self.q = np.divide(self.q, np.sum(gamma, axis=1).reshape((-1, 1)))\n",
    "        return {\"Transition\":self.p, \"Emission\":self.q}"
   ]
  },
  {
   "cell_type": "code",
   "execution_count": 148,
   "metadata": {},
   "outputs": [],
   "source": [
    "baumbaum = BaumWelch(observ_seq, p, q, b_0, max_iter = 100)"
   ]
  },
  {
   "cell_type": "code",
   "execution_count": 149,
   "metadata": {},
   "outputs": [
    {
     "data": {
      "text/plain": [
       "{'Transition': array([[0.33333333, 0.66666667, 0.        , 0.        , 0.        ],\n",
       "        [0.75      , 0.        , 0.25      , 0.        , 0.        ],\n",
       "        [0.        , 0.5       , 0.        , 0.5       , 0.        ],\n",
       "        [0.        , 0.        , 0.25      , 0.        , 0.75      ],\n",
       "        [0.        , 0.        , 0.        , 0.66666667, 0.33333333]]),\n",
       " 'Emission': array([[0., 0., 0., 1., 0.],\n",
       "        [0., 0., 1., 0., 0.],\n",
       "        [0., 0., 1., 0., 0.],\n",
       "        [0., 0., 1., 0., 0.],\n",
       "        [0., 0., 0., 1., 0.]])}"
      ]
     },
     "execution_count": 149,
     "metadata": {},
     "output_type": "execute_result"
    }
   ],
   "source": [
    "baumbaum.fit()"
   ]
  },
  {
   "cell_type": "code",
   "execution_count": null,
   "metadata": {},
   "outputs": [],
   "source": []
  }
 ],
 "metadata": {
  "kernelspec": {
   "display_name": "Python 3",
   "language": "python",
   "name": "python3"
  },
  "language_info": {
   "codemirror_mode": {
    "name": "ipython",
    "version": 3
   },
   "file_extension": ".py",
   "mimetype": "text/x-python",
   "name": "python",
   "nbconvert_exporter": "python",
   "pygments_lexer": "ipython3",
   "version": "3.8.5"
  }
 },
 "nbformat": 4,
 "nbformat_minor": 4
}
